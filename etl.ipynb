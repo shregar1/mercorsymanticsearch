{
 "cells": [
  {
   "cell_type": "markdown",
   "id": "09c9a74e",
   "metadata": {},
   "source": [
    "# Common Imports"
   ]
  },
  {
   "cell_type": "code",
   "execution_count": null,
   "id": "6682012b",
   "metadata": {},
   "outputs": [],
   "source": [
    "import faiss\n",
    "import pickle\n",
    "import numpy as np\n",
    "from typing import List, Dict, Any, Optional\n",
    "\n",
    "from start_utils import db_session\n",
    "\n",
    "from dtos.services.etl.profile import ProfileData\n",
    "from dtos.services.search.hard_criteria import HardCriteria"
   ]
  },
  {
   "cell_type": "markdown",
   "id": "e2400d1f",
   "metadata": {},
   "source": [
    "# ETL Load"
   ]
  },
  {
   "cell_type": "code",
   "execution_count": 256,
   "id": "1b17c23d",
   "metadata": {},
   "outputs": [],
   "source": [
    "from services.etl.load import ETLLoadService"
   ]
  },
  {
   "cell_type": "code",
   "execution_count": 193,
   "id": "c1359fe0",
   "metadata": {},
   "outputs": [],
   "source": [
    "file_path = \"data/linkedin_data_subset.json\"\n",
    "\n",
    "etl_load_service = ETLLoadService(\n",
    "    file_path=file_path\n",
    ")"
   ]
  },
  {
   "cell_type": "code",
   "execution_count": 194,
   "id": "9bdd31bf",
   "metadata": {},
   "outputs": [
    {
     "name": "stderr",
     "output_type": "stream",
     "text": [
      "\u001b[32m2025-07-30 16:14:38.497\u001b[0m | \u001b[1mINFO    \u001b[0m | \u001b[36mservices.etl.load\u001b[0m:\u001b[36mrun\u001b[0m:\u001b[36m22\u001b[0m - \u001b[1mLoading data from data/linkedin_data_subset.json...\u001b[0m\n",
      "\u001b[32mJuly-30-2025\u001b[0m | \u001b[30m16:14:38\u001b[0m | \u001b[1mINFO\u001b[0m | \u001b[36mLoading data from data/linkedin_data_subset.json...\u001b[0m | \u001b[35mservices.etl.load:run:22\u001b[0m | \u001b[33m{}\u001b[0m\n",
      "\u001b[32m2025-07-30 16:27:33.968\u001b[0m | \u001b[1mINFO    \u001b[0m | \u001b[36mservices.etl.load\u001b[0m:\u001b[36mrun\u001b[0m:\u001b[36m25\u001b[0m - \u001b[1mLoaded 193796 profiles\u001b[0m\n",
      "\u001b[32mJuly-30-2025\u001b[0m | \u001b[30m16:27:33\u001b[0m | \u001b[1mINFO\u001b[0m | \u001b[36mLoaded 193796 profiles\u001b[0m | \u001b[35mservices.etl.load:run:25\u001b[0m | \u001b[33m{}\u001b[0m\n"
     ]
    }
   ],
   "source": [
    "dataset = etl_load_service.run()"
   ]
  },
  {
   "cell_type": "markdown",
   "id": "0695ce87",
   "metadata": {},
   "source": [
    "# ETL Extraction"
   ]
  },
  {
   "cell_type": "code",
   "execution_count": 254,
   "id": "eff1a78e",
   "metadata": {},
   "outputs": [],
   "source": [
    "from services.etl.extract import ETLExtractionService\n",
    "etl_extract_service = ETLExtractionService(session=db_session)"
   ]
  },
  {
   "cell_type": "code",
   "execution_count": 255,
   "id": "cd417657",
   "metadata": {},
   "outputs": [
    {
     "name": "stderr",
     "output_type": "stream",
     "text": [
      "\u001b[32m2025-07-30 17:31:50.899\u001b[0m | \u001b[1mINFO    \u001b[0m | \u001b[36mservices.etl.extract\u001b[0m:\u001b[36mrun\u001b[0m:\u001b[36m252\u001b[0m - \u001b[1mExtracting profiles: 193796\u001b[0m\n",
      "\u001b[32mJuly-30-2025\u001b[0m | \u001b[30m17:31:50\u001b[0m | \u001b[1mINFO\u001b[0m | \u001b[36mExtracting profiles: 193796\u001b[0m | \u001b[35mservices.etl.extract:run:252\u001b[0m | \u001b[33m{}\u001b[0m\n",
      "100%|██████████| 193796/193796 [07:18<00:00, 441.98it/s] \n",
      "\u001b[32m2025-07-30 17:39:09.381\u001b[0m | \u001b[1mINFO    \u001b[0m | \u001b[36mservices.etl.extract\u001b[0m:\u001b[36mrun\u001b[0m:\u001b[36m379\u001b[0m - \u001b[1mProfiles created: 193796\u001b[0m\n",
      "\u001b[32mJuly-30-2025\u001b[0m | \u001b[30m17:39:09\u001b[0m | \u001b[1mINFO\u001b[0m | \u001b[36mProfiles created: 193796\u001b[0m | \u001b[35mservices.etl.extract:run:379\u001b[0m | \u001b[33m{}\u001b[0m\n"
     ]
    }
   ],
   "source": [
    "profiles = etl_extract_service.run(profiles=dataset)"
   ]
  },
  {
   "cell_type": "markdown",
   "id": "7c9bc807",
   "metadata": {},
   "source": [
    "# ETL Transform"
   ]
  },
  {
   "cell_type": "code",
   "execution_count": 252,
   "id": "0707546c",
   "metadata": {},
   "outputs": [],
   "source": [
    "from services.etl.transform import ETLTransformService\n",
    "etl_transform_service = ETLTransformService()"
   ]
  },
  {
   "cell_type": "code",
   "execution_count": 253,
   "id": "033f8938",
   "metadata": {},
   "outputs": [
    {
     "name": "stderr",
     "output_type": "stream",
     "text": [
      "\u001b[32m2025-07-30 17:29:59.281\u001b[0m | \u001b[1mINFO    \u001b[0m | \u001b[36mservices.etl.transform\u001b[0m:\u001b[36mrun\u001b[0m:\u001b[36m25\u001b[0m - \u001b[1mTransforming 193796 profiles...\u001b[0m\n",
      "\u001b[32mJuly-30-2025\u001b[0m | \u001b[30m17:29:59\u001b[0m | \u001b[1mINFO\u001b[0m | \u001b[36mTransforming 193796 profiles...\u001b[0m | \u001b[35mservices.etl.transform:run:25\u001b[0m | \u001b[33m{}\u001b[0m\n",
      "\u001b[32m2025-07-30 17:31:42.730\u001b[0m | \u001b[1mINFO    \u001b[0m | \u001b[36mservices.etl.transform\u001b[0m:\u001b[36mrun\u001b[0m:\u001b[36m27\u001b[0m - \u001b[1mTransformed 193796 profiles...\u001b[0m\n",
      "\u001b[32mJuly-30-2025\u001b[0m | \u001b[30m17:31:42\u001b[0m | \u001b[1mINFO\u001b[0m | \u001b[36mTransformed 193796 profiles...\u001b[0m | \u001b[35mservices.etl.transform:run:27\u001b[0m | \u001b[33m{}\u001b[0m\n"
     ]
    }
   ],
   "source": [
    "documents = etl_transform_service.run(profiles=profiles)"
   ]
  },
  {
   "cell_type": "markdown",
   "id": "26d7b234",
   "metadata": {},
   "source": [
    "# Vector Embedding of profiles"
   ]
  },
  {
   "cell_type": "code",
   "execution_count": 249,
   "id": "ea8d5b8f",
   "metadata": {},
   "outputs": [
    {
     "name": "stderr",
     "output_type": "stream",
     "text": [
      "\u001b[32m2025-07-30 17:25:12.804\u001b[0m | \u001b[1mINFO    \u001b[0m | \u001b[36mservices.vector_store.embedding\u001b[0m:\u001b[36m__init__\u001b[0m:\u001b[36m51\u001b[0m - \u001b[1mInitialized VectorStoreEmbeddingService with max 100 concurrent requests\u001b[0m\n"
     ]
    },
    {
     "name": "stderr",
     "output_type": "stream",
     "text": [
      "\u001b[32mJuly-30-2025\u001b[0m | \u001b[30m17:25:12\u001b[0m | \u001b[1mINFO\u001b[0m | \u001b[36mInitialized VectorStoreEmbeddingService with max 100 concurrent requests\u001b[0m | \u001b[35mservices.vector_store.embedding:__init__:51\u001b[0m | \u001b[33m{}\u001b[0m\n",
      "Embedding texts:   0%|          | 0/711 [00:00<?, ?it/s]\u001b[32m2025-07-30 17:25:22.625\u001b[0m | \u001b[31m\u001b[1mERROR   \u001b[0m | \u001b[36mservices.vector_store.embedding\u001b[0m:\u001b[36msave_embeddings_to_json\u001b[0m:\u001b[36m187\u001b[0m - \u001b[31m\u001b[1mError saving embeddings to JSON: Object of type ndarray is not JSON serializable\u001b[0m\n",
      "\u001b[32mJuly-30-2025\u001b[0m | \u001b[30m17:25:22\u001b[0m | \u001b[31m\u001b[1mERROR\u001b[0m | \u001b[36mError saving embeddings to JSON: Object of type ndarray is not JSON serializable\u001b[0m | \u001b[35mservices.vector_store.embedding:save_embeddings_to_json:187\u001b[0m | \u001b[33m{}\u001b[0m\n",
      "Embedding texts:  14%|█▍        | 100/711 [00:09<00:59, 10.26it/s]\u001b[32m2025-07-30 17:25:36.619\u001b[0m | \u001b[31m\u001b[1mERROR   \u001b[0m | \u001b[36mservices.vector_store.embedding\u001b[0m:\u001b[36msave_embeddings_to_json\u001b[0m:\u001b[36m187\u001b[0m - \u001b[31m\u001b[1mError saving embeddings to JSON: Object of type ndarray is not JSON serializable\u001b[0m\n",
      "\u001b[32mJuly-30-2025\u001b[0m | \u001b[30m17:25:36\u001b[0m | \u001b[31m\u001b[1mERROR\u001b[0m | \u001b[36mError saving embeddings to JSON: Object of type ndarray is not JSON serializable\u001b[0m | \u001b[35mservices.vector_store.embedding:save_embeddings_to_json:187\u001b[0m | \u001b[33m{}\u001b[0m\n",
      "Embedding texts:  28%|██▊       | 200/711 [00:23<01:02,  8.17it/s]\u001b[32m2025-07-30 17:25:37.714\u001b[0m | \u001b[31m\u001b[1mERROR   \u001b[0m | \u001b[36mservices.vector_store.embedding\u001b[0m:\u001b[36membed_with_aiohttp\u001b[0m:\u001b[36m125\u001b[0m - \u001b[31m\u001b[1mError embedding text 'Profile_id: tLqatvv_47vKcPYag7jPmFUcgs45Ixy\n",
      "Name: ...': Cannot connect to host api.voyageai.com:443 ssl:default [Connection reset by peer]\u001b[0m\n",
      "\u001b[32mJuly-30-2025\u001b[0m | \u001b[30m17:25:37\u001b[0m | \u001b[31m\u001b[1mERROR\u001b[0m | \u001b[36mError embedding text 'Profile_id: tLqatvv_47vKcPYag7jPmFUcgs45Ixy\n",
      "Name: ...': Cannot connect to host api.voyageai.com:443 ssl:default [Connection reset by peer]\u001b[0m | \u001b[35mservices.vector_store.embedding:embed_with_aiohttp:125\u001b[0m | \u001b[33m{}\u001b[0m\n",
      "Embedding texts:  28%|██▊       | 200/711 [00:31<01:20,  6.32it/s]\n"
     ]
    },
    {
     "ename": "CancelledError",
     "evalue": "",
     "output_type": "error",
     "traceback": [
      "\u001b[31m---------------------------------------------------------------------------\u001b[39m",
      "\u001b[31mCancelledError\u001b[39m                            Traceback (most recent call last)",
      "\u001b[36mCell\u001b[39m\u001b[36m \u001b[39m\u001b[32mIn[249]\u001b[39m\u001b[32m, line 11\u001b[39m\n\u001b[32m      1\u001b[39m \u001b[38;5;28;01mfrom\u001b[39;00m\u001b[38;5;250m \u001b[39m\u001b[34;01mservices\u001b[39;00m\u001b[34;01m.\u001b[39;00m\u001b[34;01mvector_store\u001b[39;00m\u001b[34;01m.\u001b[39;00m\u001b[34;01membedding\u001b[39;00m\u001b[38;5;250m \u001b[39m\u001b[38;5;28;01mimport\u001b[39;00m VectorStoreEmbeddingService\n\u001b[32m      3\u001b[39m vector_store_embedding_service = VectorStoreEmbeddingService(\n\u001b[32m      4\u001b[39m     model_name=\u001b[33m\"\u001b[39m\u001b[33mvoyage-3\u001b[39m\u001b[33m\"\u001b[39m,\n\u001b[32m      5\u001b[39m     max_concurrent_requests=\u001b[32m100\u001b[39m,\n\u001b[32m   (...)\u001b[39m\u001b[32m      8\u001b[39m     embeddings_dir=\u001b[33m\"\u001b[39m\u001b[33membeddings\u001b[39m\u001b[33m\"\u001b[39m,\n\u001b[32m      9\u001b[39m )\n\u001b[32m---> \u001b[39m\u001b[32m11\u001b[39m embeddings = \u001b[38;5;28;01mawait\u001b[39;00m vector_store_embedding_service.run_async(documents)\n",
      "\u001b[36mFile \u001b[39m\u001b[32m~/Documents/projects/mercorsymanticsearch/services/vector_store/embedding.py:262\u001b[39m, in \u001b[36mVectorStoreEmbeddingService.run_async\u001b[39m\u001b[34m(self, texts, use_progress)\u001b[39m\n\u001b[32m    260\u001b[39m texts = \u001b[38;5;28mlist\u001b[39m(texts.items())\n\u001b[32m    261\u001b[39m \u001b[38;5;28;01mif\u001b[39;00m use_progress:\n\u001b[32m--> \u001b[39m\u001b[32m262\u001b[39m     \u001b[38;5;28;01mreturn\u001b[39;00m \u001b[38;5;28;01mawait\u001b[39;00m \u001b[38;5;28mself\u001b[39m.embed_batch_with_progress(texts)\n\u001b[32m    263\u001b[39m \u001b[38;5;28;01melse\u001b[39;00m:\n\u001b[32m    264\u001b[39m     \u001b[38;5;28;01mreturn\u001b[39;00m \u001b[38;5;28;01mawait\u001b[39;00m \u001b[38;5;28mself\u001b[39m.embed_batch_async(texts)\n",
      "\u001b[36mFile \u001b[39m\u001b[32m~/Documents/projects/mercorsymanticsearch/services/vector_store/embedding.py:207\u001b[39m, in \u001b[36mVectorStoreEmbeddingService.embed_batch_with_progress\u001b[39m\u001b[34m(self, texts)\u001b[39m\n\u001b[32m    203\u001b[39m \u001b[38;5;28;01mfor\u001b[39;00m batch_idx, i \u001b[38;5;129;01min\u001b[39;00m \u001b[38;5;28menumerate\u001b[39m(\n\u001b[32m    204\u001b[39m     \u001b[38;5;28mrange\u001b[39m(\u001b[32m0\u001b[39m, \u001b[38;5;28mlen\u001b[39m(texts), \u001b[38;5;28mself\u001b[39m.max_concurrent_requests)\n\u001b[32m    205\u001b[39m ):\n\u001b[32m    206\u001b[39m     chunk = texts[i: i + \u001b[38;5;28mself\u001b[39m.max_concurrent_requests]\n\u001b[32m--> \u001b[39m\u001b[32m207\u001b[39m     chunk_embeddings = \u001b[38;5;28;01mawait\u001b[39;00m \u001b[38;5;28mself\u001b[39m.embed_batch_async(chunk)\n\u001b[32m    209\u001b[39m     \u001b[38;5;28mself\u001b[39m.save_embeddings_to_json(\n\u001b[32m    210\u001b[39m         os.path.join(\n\u001b[32m    211\u001b[39m             \u001b[38;5;28mself\u001b[39m.embeddings_dir,\n\u001b[32m   (...)\u001b[39m\u001b[32m    214\u001b[39m         chunk_embeddings,\n\u001b[32m    215\u001b[39m     )\n\u001b[32m    217\u001b[39m     pbar.update(\u001b[38;5;28mlen\u001b[39m(chunk))\n",
      "\u001b[36mFile \u001b[39m\u001b[32m~/Documents/projects/mercorsymanticsearch/services/vector_store/embedding.py:153\u001b[39m, in \u001b[36mVectorStoreEmbeddingService.embed_batch_async\u001b[39m\u001b[34m(self, texts)\u001b[39m\n\u001b[32m    150\u001b[39m     tasks.append(task)\n\u001b[32m    152\u001b[39m \u001b[38;5;66;03m# Use asyncio.gather to run all tasks concurrently\u001b[39;00m\n\u001b[32m--> \u001b[39m\u001b[32m153\u001b[39m embeddings = \u001b[38;5;28;01mawait\u001b[39;00m asyncio.gather(*tasks, return_exceptions=\u001b[38;5;28;01mTrue\u001b[39;00m)\n\u001b[32m    155\u001b[39m \u001b[38;5;66;03m# Handle any exceptions that occurred\u001b[39;00m\n\u001b[32m    156\u001b[39m processed_embeddings = []\n",
      "\u001b[36mFile \u001b[39m\u001b[32m~/Documents/projects/mercorsymanticsearch/services/vector_store/embedding.py:101\u001b[39m, in \u001b[36mVectorStoreEmbeddingService.embed_with_aiohttp\u001b[39m\u001b[34m(self, session, key, text)\u001b[39m\n\u001b[32m     95\u001b[39m headers = {\n\u001b[32m     96\u001b[39m     \u001b[33m\"\u001b[39m\u001b[33mAuthorization\u001b[39m\u001b[33m\"\u001b[39m: \u001b[33mf\u001b[39m\u001b[33m\"\u001b[39m\u001b[33mBearer \u001b[39m\u001b[38;5;132;01m{\u001b[39;00mVOYAGEAI_API_KEY\u001b[38;5;132;01m}\u001b[39;00m\u001b[33m\"\u001b[39m,\n\u001b[32m     97\u001b[39m     \u001b[33m\"\u001b[39m\u001b[33mContent-Type\u001b[39m\u001b[33m\"\u001b[39m: \u001b[33m\"\u001b[39m\u001b[33mapplication/json\u001b[39m\u001b[33m\"\u001b[39m,\n\u001b[32m     98\u001b[39m }\n\u001b[32m     99\u001b[39m payload = {\u001b[33m\"\u001b[39m\u001b[33mmodel\u001b[39m\u001b[33m\"\u001b[39m: \u001b[38;5;28mself\u001b[39m.model_name, \u001b[33m\"\u001b[39m\u001b[33minput\u001b[39m\u001b[33m\"\u001b[39m: [text]}\n\u001b[32m--> \u001b[39m\u001b[32m101\u001b[39m \u001b[38;5;28;01masync\u001b[39;00m \u001b[38;5;28;01mwith\u001b[39;00m session.post(\n\u001b[32m    102\u001b[39m     url, headers=headers, json=payload\n\u001b[32m    103\u001b[39m ) \u001b[38;5;28;01mas\u001b[39;00m response:\n\u001b[32m    104\u001b[39m     \u001b[38;5;28;01mif\u001b[39;00m response.status == \u001b[32m200\u001b[39m:\n\u001b[32m    105\u001b[39m         data = \u001b[38;5;28;01mawait\u001b[39;00m response.json()\n",
      "\u001b[36mFile \u001b[39m\u001b[32m~/Documents/projects/mercorsymanticsearch/venv/lib/python3.13/site-packages/aiohttp/client.py:1488\u001b[39m, in \u001b[36m_BaseRequestContextManager.__aenter__\u001b[39m\u001b[34m(self)\u001b[39m\n\u001b[32m   1487\u001b[39m \u001b[38;5;28;01masync\u001b[39;00m \u001b[38;5;28;01mdef\u001b[39;00m\u001b[38;5;250m \u001b[39m\u001b[34m__aenter__\u001b[39m(\u001b[38;5;28mself\u001b[39m) -> _RetType:\n\u001b[32m-> \u001b[39m\u001b[32m1488\u001b[39m     \u001b[38;5;28mself\u001b[39m._resp: _RetType = \u001b[38;5;28;01mawait\u001b[39;00m \u001b[38;5;28mself\u001b[39m._coro\n\u001b[32m   1489\u001b[39m     \u001b[38;5;28;01mreturn\u001b[39;00m \u001b[38;5;28;01mawait\u001b[39;00m \u001b[38;5;28mself\u001b[39m._resp.\u001b[34m__aenter__\u001b[39m()\n",
      "\u001b[36mFile \u001b[39m\u001b[32m~/Documents/projects/mercorsymanticsearch/venv/lib/python3.13/site-packages/aiohttp/client.py:770\u001b[39m, in \u001b[36mClientSession._request\u001b[39m\u001b[34m(self, method, str_or_url, params, data, json, cookies, headers, skip_auto_headers, auth, allow_redirects, max_redirects, compress, chunked, expect100, raise_for_status, read_until_eof, proxy, proxy_auth, timeout, verify_ssl, fingerprint, ssl_context, ssl, server_hostname, proxy_headers, trace_request_ctx, read_bufsize, auto_decompress, max_line_size, max_field_size, middlewares)\u001b[39m\n\u001b[32m    767\u001b[39m     handler = _connect_and_send_request\n\u001b[32m    769\u001b[39m \u001b[38;5;28;01mtry\u001b[39;00m:\n\u001b[32m--> \u001b[39m\u001b[32m770\u001b[39m     resp = \u001b[38;5;28;01mawait\u001b[39;00m handler(req)\n\u001b[32m    771\u001b[39m \u001b[38;5;66;03m# Client connector errors should not be retried\u001b[39;00m\n\u001b[32m    772\u001b[39m \u001b[38;5;28;01mexcept\u001b[39;00m (\n\u001b[32m    773\u001b[39m     ConnectionTimeoutError,\n\u001b[32m    774\u001b[39m     ClientConnectorError,\n\u001b[32m    775\u001b[39m     ClientConnectorCertificateError,\n\u001b[32m    776\u001b[39m     ClientConnectorSSLError,\n\u001b[32m    777\u001b[39m ):\n",
      "\u001b[36mFile \u001b[39m\u001b[32m~/Documents/projects/mercorsymanticsearch/venv/lib/python3.13/site-packages/aiohttp/client.py:748\u001b[39m, in \u001b[36mClientSession._request.<locals>._connect_and_send_request\u001b[39m\u001b[34m(req)\u001b[39m\n\u001b[32m    746\u001b[39m resp = \u001b[38;5;28;01mawait\u001b[39;00m req.send(conn)\n\u001b[32m    747\u001b[39m \u001b[38;5;28;01mtry\u001b[39;00m:\n\u001b[32m--> \u001b[39m\u001b[32m748\u001b[39m     \u001b[38;5;28;01mawait\u001b[39;00m resp.start(conn)\n\u001b[32m    749\u001b[39m \u001b[38;5;28;01mexcept\u001b[39;00m \u001b[38;5;167;01mBaseException\u001b[39;00m:\n\u001b[32m    750\u001b[39m     resp.close()\n",
      "\u001b[36mFile \u001b[39m\u001b[32m~/Documents/projects/mercorsymanticsearch/venv/lib/python3.13/site-packages/aiohttp/client_reqrep.py:532\u001b[39m, in \u001b[36mClientResponse.start\u001b[39m\u001b[34m(self, connection)\u001b[39m\n\u001b[32m    530\u001b[39m \u001b[38;5;28;01mtry\u001b[39;00m:\n\u001b[32m    531\u001b[39m     protocol = \u001b[38;5;28mself\u001b[39m._protocol\n\u001b[32m--> \u001b[39m\u001b[32m532\u001b[39m     message, payload = \u001b[38;5;28;01mawait\u001b[39;00m protocol.read()  \u001b[38;5;66;03m# type: ignore[union-attr]\u001b[39;00m\n\u001b[32m    533\u001b[39m \u001b[38;5;28;01mexcept\u001b[39;00m http.HttpProcessingError \u001b[38;5;28;01mas\u001b[39;00m exc:\n\u001b[32m    534\u001b[39m     \u001b[38;5;28;01mraise\u001b[39;00m ClientResponseError(\n\u001b[32m    535\u001b[39m         \u001b[38;5;28mself\u001b[39m.request_info,\n\u001b[32m    536\u001b[39m         \u001b[38;5;28mself\u001b[39m.history,\n\u001b[32m   (...)\u001b[39m\u001b[32m    539\u001b[39m         headers=exc.headers,\n\u001b[32m    540\u001b[39m     ) \u001b[38;5;28;01mfrom\u001b[39;00m\u001b[38;5;250m \u001b[39m\u001b[34;01mexc\u001b[39;00m\n",
      "\u001b[36mFile \u001b[39m\u001b[32m~/Documents/projects/mercorsymanticsearch/venv/lib/python3.13/site-packages/aiohttp/streams.py:672\u001b[39m, in \u001b[36mDataQueue.read\u001b[39m\u001b[34m(self)\u001b[39m\n\u001b[32m    670\u001b[39m \u001b[38;5;28mself\u001b[39m._waiter = \u001b[38;5;28mself\u001b[39m._loop.create_future()\n\u001b[32m    671\u001b[39m \u001b[38;5;28;01mtry\u001b[39;00m:\n\u001b[32m--> \u001b[39m\u001b[32m672\u001b[39m     \u001b[38;5;28;01mawait\u001b[39;00m \u001b[38;5;28mself\u001b[39m._waiter\n\u001b[32m    673\u001b[39m \u001b[38;5;28;01mexcept\u001b[39;00m (asyncio.CancelledError, asyncio.TimeoutError):\n\u001b[32m    674\u001b[39m     \u001b[38;5;28mself\u001b[39m._waiter = \u001b[38;5;28;01mNone\u001b[39;00m\n",
      "\u001b[31mCancelledError\u001b[39m: "
     ]
    }
   ],
   "source": [
    "from services.vector_store.embedding import VectorStoreEmbeddingService\n",
    "\n",
    "vector_store_embedding_service = VectorStoreEmbeddingService(\n",
    "    model_name=\"voyage-3\",\n",
    "    max_concurrent_requests=100,\n",
    "    use_progress=True,\n",
    "    save_embeddings=True,\n",
    "    embeddings_dir=\"embeddings\",\n",
    ")\n",
    "\n",
    "embeddings = await vector_store_embedding_service.run_async(documents)"
   ]
  },
  {
   "cell_type": "code",
   "execution_count": null,
   "id": "12fe3e81",
   "metadata": {},
   "outputs": [],
   "source": []
  },
  {
   "cell_type": "markdown",
   "id": "1cd647cb",
   "metadata": {},
   "source": [
    "# Load Embeddings"
   ]
  },
  {
   "cell_type": "code",
   "execution_count": null,
   "id": "da22bcd7",
   "metadata": {},
   "outputs": [],
   "source": [
    "import os\n",
    "import json\n",
    "files = os.listdir(\"embeddings\")\n",
    "existing_dataset = []\n",
    "for file in files:\n",
    "    with open(os.path.join(\"embeddings\", file), \"r\") as f:\n",
    "        d = json.load(f)\n",
    "        temp = list(filter(lambda x: x is not None, d))\n",
    "        existing_dataset.extend(temp)\n",
    "\n",
    "len(existing_dataset)\n",
    "\n",
    "embeddings = []\n",
    "for data in existing_dataset:\n",
    "    embeddings.append(np.array(data.get(\"embedding\")))"
   ]
  },
  {
   "cell_type": "markdown",
   "id": "4a7edfde",
   "metadata": {},
   "source": [
    "# Kmean Clustering on embeddings"
   ]
  },
  {
   "cell_type": "code",
   "execution_count": 247,
   "id": "4234025e",
   "metadata": {},
   "outputs": [],
   "source": [
    "from services.clustering.kmean import KMeansClusteringService"
   ]
  },
  {
   "cell_type": "code",
   "execution_count": null,
   "id": "fffd52d4",
   "metadata": {},
   "outputs": [
    {
     "name": "stderr",
     "output_type": "stream",
     "text": [
      "\u001b[32m2025-07-30 14:27:30.354\u001b[0m | \u001b[1mINFO    \u001b[0m | \u001b[36m__main__\u001b[0m:\u001b[36mrun\u001b[0m:\u001b[36m161\u001b[0m - \u001b[1mCreating 14 clusters...\u001b[0m\n",
      "\u001b[32mJuly-30-2025\u001b[0m | \u001b[30m14:27:30\u001b[0m | \u001b[1mINFO\u001b[0m | \u001b[36mCreating 14 clusters...\u001b[0m | \u001b[35m__main__:run:161\u001b[0m | \u001b[33m{}\u001b[0m\n"
     ]
    }
   ],
   "source": [
    "kmeans_clustering_service = KMeansClusteringService(\n",
    "    n_clusters=14,\n",
    ")\n",
    "\n",
    "kmean_cluster_labels, cluster_centers = kmeans_clustering_service.run(np.array(embeddings))"
   ]
  },
  {
   "cell_type": "markdown",
   "id": "f621770c",
   "metadata": {},
   "source": [
    "# Write indices to vector store"
   ]
  },
  {
   "cell_type": "code",
   "execution_count": 243,
   "id": "62ac6536",
   "metadata": {},
   "outputs": [],
   "source": [
    "from services.vector_store.write import VectorStoreWriteService"
   ]
  },
  {
   "cell_type": "code",
   "execution_count": 244,
   "id": "1b3f260f",
   "metadata": {},
   "outputs": [
    {
     "name": "stderr",
     "output_type": "stream",
     "text": [
      "\u001b[32m2025-07-30 17:17:41.875\u001b[0m | \u001b[1mINFO    \u001b[0m | \u001b[36mservices.vector_store.write\u001b[0m:\u001b[36mrun\u001b[0m:\u001b[36m87\u001b[0m - \u001b[1mRunning vector store write service for 193796 clusters\u001b[0m\n",
      "\u001b[32mJuly-30-2025\u001b[0m | \u001b[30m17:17:41\u001b[0m | \u001b[1mINFO\u001b[0m | \u001b[36mRunning vector store write service for 193796 clusters\u001b[0m | \u001b[35mservices.vector_store.write:run:87\u001b[0m | \u001b[33m{}\u001b[0m\n",
      "\u001b[32m2025-07-30 17:17:41.889\u001b[0m | \u001b[1mINFO    \u001b[0m | \u001b[36mservices.vector_store.write\u001b[0m:\u001b[36mrun\u001b[0m:\u001b[36m93\u001b[0m - \u001b[1mWriting embeddings for cluster 0\u001b[0m\n",
      "\u001b[32mJuly-30-2025\u001b[0m | \u001b[30m17:17:41\u001b[0m | \u001b[1mINFO\u001b[0m | \u001b[36mWriting embeddings for cluster 0\u001b[0m | \u001b[35mservices.vector_store.write:run:93\u001b[0m | \u001b[33m{}\u001b[0m\n",
      "\u001b[32m2025-07-30 17:17:41.961\u001b[0m | \u001b[1mINFO    \u001b[0m | \u001b[36mservices.vector_store.write\u001b[0m:\u001b[36mwrite\u001b[0m:\u001b[36m41\u001b[0m - \u001b[1mCluster 0: 17728 profiles, 17728 profile indices\u001b[0m\n",
      "\u001b[32mJuly-30-2025\u001b[0m | \u001b[30m17:17:41\u001b[0m | \u001b[1mINFO\u001b[0m | \u001b[36mCluster 0: 17728 profiles, 17728 profile indices\u001b[0m | \u001b[35mservices.vector_store.write:write:41\u001b[0m | \u001b[33m{}\u001b[0m\n",
      "\u001b[32m2025-07-30 17:17:42.059\u001b[0m | \u001b[1mINFO    \u001b[0m | \u001b[36mservices.vector_store.write\u001b[0m:\u001b[36mwrite\u001b[0m:\u001b[36m65\u001b[0m - \u001b[1mSaved cluster 0 with 17728 embeddings\u001b[0m\n",
      "\u001b[32mJuly-30-2025\u001b[0m | \u001b[30m17:17:42\u001b[0m | \u001b[1mINFO\u001b[0m | \u001b[36mSaved cluster 0 with 17728 embeddings\u001b[0m | \u001b[35mservices.vector_store.write:write:65\u001b[0m | \u001b[33m{}\u001b[0m\n",
      "\u001b[32m2025-07-30 17:17:42.062\u001b[0m | \u001b[1mINFO    \u001b[0m | \u001b[36mservices.vector_store.write\u001b[0m:\u001b[36mrun\u001b[0m:\u001b[36m95\u001b[0m - \u001b[1mWritten embeddings for cluster 0\u001b[0m\n",
      "\u001b[32mJuly-30-2025\u001b[0m | \u001b[30m17:17:42\u001b[0m | \u001b[1mINFO\u001b[0m | \u001b[36mWritten embeddings for cluster 0\u001b[0m | \u001b[35mservices.vector_store.write:run:95\u001b[0m | \u001b[33m{}\u001b[0m\n",
      "\u001b[32m2025-07-30 17:17:42.063\u001b[0m | \u001b[1mINFO    \u001b[0m | \u001b[36mservices.vector_store.write\u001b[0m:\u001b[36mrun\u001b[0m:\u001b[36m93\u001b[0m - \u001b[1mWriting embeddings for cluster 1\u001b[0m\n",
      "\u001b[32mJuly-30-2025\u001b[0m | \u001b[30m17:17:42\u001b[0m | \u001b[1mINFO\u001b[0m | \u001b[36mWriting embeddings for cluster 1\u001b[0m | \u001b[35mservices.vector_store.write:run:93\u001b[0m | \u001b[33m{}\u001b[0m\n",
      "\u001b[32m2025-07-30 17:17:42.091\u001b[0m | \u001b[1mINFO    \u001b[0m | \u001b[36mservices.vector_store.write\u001b[0m:\u001b[36mwrite\u001b[0m:\u001b[36m41\u001b[0m - \u001b[1mCluster 1: 10015 profiles, 10015 profile indices\u001b[0m\n",
      "\u001b[32mJuly-30-2025\u001b[0m | \u001b[30m17:17:42\u001b[0m | \u001b[1mINFO\u001b[0m | \u001b[36mCluster 1: 10015 profiles, 10015 profile indices\u001b[0m | \u001b[35mservices.vector_store.write:write:41\u001b[0m | \u001b[33m{}\u001b[0m\n",
      "\u001b[32m2025-07-30 17:17:42.124\u001b[0m | \u001b[1mINFO    \u001b[0m | \u001b[36mservices.vector_store.write\u001b[0m:\u001b[36mwrite\u001b[0m:\u001b[36m65\u001b[0m - \u001b[1mSaved cluster 1 with 10015 embeddings\u001b[0m\n",
      "\u001b[32mJuly-30-2025\u001b[0m | \u001b[30m17:17:42\u001b[0m | \u001b[1mINFO\u001b[0m | \u001b[36mSaved cluster 1 with 10015 embeddings\u001b[0m | \u001b[35mservices.vector_store.write:write:65\u001b[0m | \u001b[33m{}\u001b[0m\n",
      "\u001b[32m2025-07-30 17:17:42.128\u001b[0m | \u001b[1mINFO    \u001b[0m | \u001b[36mservices.vector_store.write\u001b[0m:\u001b[36mrun\u001b[0m:\u001b[36m95\u001b[0m - \u001b[1mWritten embeddings for cluster 1\u001b[0m\n",
      "\u001b[32mJuly-30-2025\u001b[0m | \u001b[30m17:17:42\u001b[0m | \u001b[1mINFO\u001b[0m | \u001b[36mWritten embeddings for cluster 1\u001b[0m | \u001b[35mservices.vector_store.write:run:95\u001b[0m | \u001b[33m{}\u001b[0m\n",
      "\u001b[32m2025-07-30 17:17:42.129\u001b[0m | \u001b[1mINFO    \u001b[0m | \u001b[36mservices.vector_store.write\u001b[0m:\u001b[36mrun\u001b[0m:\u001b[36m93\u001b[0m - \u001b[1mWriting embeddings for cluster 2\u001b[0m\n",
      "\u001b[32mJuly-30-2025\u001b[0m | \u001b[30m17:17:42\u001b[0m | \u001b[1mINFO\u001b[0m | \u001b[36mWriting embeddings for cluster 2\u001b[0m | \u001b[35mservices.vector_store.write:run:93\u001b[0m | \u001b[33m{}\u001b[0m\n",
      "\u001b[32m2025-07-30 17:17:42.183\u001b[0m | \u001b[1mINFO    \u001b[0m | \u001b[36mservices.vector_store.write\u001b[0m:\u001b[36mwrite\u001b[0m:\u001b[36m41\u001b[0m - \u001b[1mCluster 2: 11309 profiles, 11309 profile indices\u001b[0m\n",
      "\u001b[32mJuly-30-2025\u001b[0m | \u001b[30m17:17:42\u001b[0m | \u001b[1mINFO\u001b[0m | \u001b[36mCluster 2: 11309 profiles, 11309 profile indices\u001b[0m | \u001b[35mservices.vector_store.write:write:41\u001b[0m | \u001b[33m{}\u001b[0m\n",
      "\u001b[32m2025-07-30 17:17:42.232\u001b[0m | \u001b[1mINFO    \u001b[0m | \u001b[36mservices.vector_store.write\u001b[0m:\u001b[36mwrite\u001b[0m:\u001b[36m65\u001b[0m - \u001b[1mSaved cluster 2 with 11309 embeddings\u001b[0m\n",
      "\u001b[32mJuly-30-2025\u001b[0m | \u001b[30m17:17:42\u001b[0m | \u001b[1mINFO\u001b[0m | \u001b[36mSaved cluster 2 with 11309 embeddings\u001b[0m | \u001b[35mservices.vector_store.write:write:65\u001b[0m | \u001b[33m{}\u001b[0m\n",
      "\u001b[32m2025-07-30 17:17:42.234\u001b[0m | \u001b[1mINFO    \u001b[0m | \u001b[36mservices.vector_store.write\u001b[0m:\u001b[36mrun\u001b[0m:\u001b[36m95\u001b[0m - \u001b[1mWritten embeddings for cluster 2\u001b[0m\n",
      "\u001b[32mJuly-30-2025\u001b[0m | \u001b[30m17:17:42\u001b[0m | \u001b[1mINFO\u001b[0m | \u001b[36mWritten embeddings for cluster 2\u001b[0m | \u001b[35mservices.vector_store.write:run:95\u001b[0m | \u001b[33m{}\u001b[0m\n",
      "\u001b[32m2025-07-30 17:17:42.235\u001b[0m | \u001b[1mINFO    \u001b[0m | \u001b[36mservices.vector_store.write\u001b[0m:\u001b[36mrun\u001b[0m:\u001b[36m93\u001b[0m - \u001b[1mWriting embeddings for cluster 3\u001b[0m\n",
      "\u001b[32mJuly-30-2025\u001b[0m | \u001b[30m17:17:42\u001b[0m | \u001b[1mINFO\u001b[0m | \u001b[36mWriting embeddings for cluster 3\u001b[0m | \u001b[35mservices.vector_store.write:run:93\u001b[0m | \u001b[33m{}\u001b[0m\n",
      "\u001b[32m2025-07-30 17:17:42.313\u001b[0m | \u001b[1mINFO    \u001b[0m | \u001b[36mservices.vector_store.write\u001b[0m:\u001b[36mwrite\u001b[0m:\u001b[36m41\u001b[0m - \u001b[1mCluster 3: 20836 profiles, 20836 profile indices\u001b[0m\n",
      "\u001b[32mJuly-30-2025\u001b[0m | \u001b[30m17:17:42\u001b[0m | \u001b[1mINFO\u001b[0m | \u001b[36mCluster 3: 20836 profiles, 20836 profile indices\u001b[0m | \u001b[35mservices.vector_store.write:write:41\u001b[0m | \u001b[33m{}\u001b[0m\n",
      "\u001b[32m2025-07-30 17:17:42.416\u001b[0m | \u001b[1mINFO    \u001b[0m | \u001b[36mservices.vector_store.write\u001b[0m:\u001b[36mwrite\u001b[0m:\u001b[36m65\u001b[0m - \u001b[1mSaved cluster 3 with 20836 embeddings\u001b[0m\n",
      "\u001b[32mJuly-30-2025\u001b[0m | \u001b[30m17:17:42\u001b[0m | \u001b[1mINFO\u001b[0m | \u001b[36mSaved cluster 3 with 20836 embeddings\u001b[0m | \u001b[35mservices.vector_store.write:write:65\u001b[0m | \u001b[33m{}\u001b[0m\n",
      "\u001b[32m2025-07-30 17:17:42.419\u001b[0m | \u001b[1mINFO    \u001b[0m | \u001b[36mservices.vector_store.write\u001b[0m:\u001b[36mrun\u001b[0m:\u001b[36m95\u001b[0m - \u001b[1mWritten embeddings for cluster 3\u001b[0m\n",
      "\u001b[32mJuly-30-2025\u001b[0m | \u001b[30m17:17:42\u001b[0m | \u001b[1mINFO\u001b[0m | \u001b[36mWritten embeddings for cluster 3\u001b[0m | \u001b[35mservices.vector_store.write:run:95\u001b[0m | \u001b[33m{}\u001b[0m\n",
      "\u001b[32m2025-07-30 17:17:42.419\u001b[0m | \u001b[1mINFO    \u001b[0m | \u001b[36mservices.vector_store.write\u001b[0m:\u001b[36mrun\u001b[0m:\u001b[36m93\u001b[0m - \u001b[1mWriting embeddings for cluster 4\u001b[0m\n",
      "\u001b[32mJuly-30-2025\u001b[0m | \u001b[30m17:17:42\u001b[0m | \u001b[1mINFO\u001b[0m | \u001b[36mWriting embeddings for cluster 4\u001b[0m | \u001b[35mservices.vector_store.write:run:93\u001b[0m | \u001b[33m{}\u001b[0m\n",
      "\u001b[32m2025-07-30 17:17:42.460\u001b[0m | \u001b[1mINFO    \u001b[0m | \u001b[36mservices.vector_store.write\u001b[0m:\u001b[36mwrite\u001b[0m:\u001b[36m41\u001b[0m - \u001b[1mCluster 4: 15276 profiles, 15276 profile indices\u001b[0m\n",
      "\u001b[32mJuly-30-2025\u001b[0m | \u001b[30m17:17:42\u001b[0m | \u001b[1mINFO\u001b[0m | \u001b[36mCluster 4: 15276 profiles, 15276 profile indices\u001b[0m | \u001b[35mservices.vector_store.write:write:41\u001b[0m | \u001b[33m{}\u001b[0m\n",
      "\u001b[32m2025-07-30 17:17:42.517\u001b[0m | \u001b[1mINFO    \u001b[0m | \u001b[36mservices.vector_store.write\u001b[0m:\u001b[36mwrite\u001b[0m:\u001b[36m65\u001b[0m - \u001b[1mSaved cluster 4 with 15276 embeddings\u001b[0m\n",
      "\u001b[32mJuly-30-2025\u001b[0m | \u001b[30m17:17:42\u001b[0m | \u001b[1mINFO\u001b[0m | \u001b[36mSaved cluster 4 with 15276 embeddings\u001b[0m | \u001b[35mservices.vector_store.write:write:65\u001b[0m | \u001b[33m{}\u001b[0m\n",
      "\u001b[32m2025-07-30 17:17:42.519\u001b[0m | \u001b[1mINFO    \u001b[0m | \u001b[36mservices.vector_store.write\u001b[0m:\u001b[36mrun\u001b[0m:\u001b[36m95\u001b[0m - \u001b[1mWritten embeddings for cluster 4\u001b[0m\n",
      "\u001b[32mJuly-30-2025\u001b[0m | \u001b[30m17:17:42\u001b[0m | \u001b[1mINFO\u001b[0m | \u001b[36mWritten embeddings for cluster 4\u001b[0m | \u001b[35mservices.vector_store.write:run:95\u001b[0m | \u001b[33m{}\u001b[0m\n",
      "\u001b[32m2025-07-30 17:17:42.520\u001b[0m | \u001b[1mINFO    \u001b[0m | \u001b[36mservices.vector_store.write\u001b[0m:\u001b[36mrun\u001b[0m:\u001b[36m93\u001b[0m - \u001b[1mWriting embeddings for cluster 5\u001b[0m\n",
      "\u001b[32mJuly-30-2025\u001b[0m | \u001b[30m17:17:42\u001b[0m | \u001b[1mINFO\u001b[0m | \u001b[36mWriting embeddings for cluster 5\u001b[0m | \u001b[35mservices.vector_store.write:run:93\u001b[0m | \u001b[33m{}\u001b[0m\n",
      "\u001b[32m2025-07-30 17:17:42.557\u001b[0m | \u001b[1mINFO    \u001b[0m | \u001b[36mservices.vector_store.write\u001b[0m:\u001b[36mwrite\u001b[0m:\u001b[36m41\u001b[0m - \u001b[1mCluster 5: 11074 profiles, 11074 profile indices\u001b[0m\n",
      "\u001b[32mJuly-30-2025\u001b[0m | \u001b[30m17:17:42\u001b[0m | \u001b[1mINFO\u001b[0m | \u001b[36mCluster 5: 11074 profiles, 11074 profile indices\u001b[0m | \u001b[35mservices.vector_store.write:write:41\u001b[0m | \u001b[33m{}\u001b[0m\n",
      "\u001b[32m2025-07-30 17:17:42.596\u001b[0m | \u001b[1mINFO    \u001b[0m | \u001b[36mservices.vector_store.write\u001b[0m:\u001b[36mwrite\u001b[0m:\u001b[36m65\u001b[0m - \u001b[1mSaved cluster 5 with 11074 embeddings\u001b[0m\n",
      "\u001b[32mJuly-30-2025\u001b[0m | \u001b[30m17:17:42\u001b[0m | \u001b[1mINFO\u001b[0m | \u001b[36mSaved cluster 5 with 11074 embeddings\u001b[0m | \u001b[35mservices.vector_store.write:write:65\u001b[0m | \u001b[33m{}\u001b[0m\n",
      "\u001b[32m2025-07-30 17:17:42.598\u001b[0m | \u001b[1mINFO    \u001b[0m | \u001b[36mservices.vector_store.write\u001b[0m:\u001b[36mrun\u001b[0m:\u001b[36m95\u001b[0m - \u001b[1mWritten embeddings for cluster 5\u001b[0m\n",
      "\u001b[32mJuly-30-2025\u001b[0m | \u001b[30m17:17:42\u001b[0m | \u001b[1mINFO\u001b[0m | \u001b[36mWritten embeddings for cluster 5\u001b[0m | \u001b[35mservices.vector_store.write:run:95\u001b[0m | \u001b[33m{}\u001b[0m\n",
      "\u001b[32m2025-07-30 17:17:42.598\u001b[0m | \u001b[1mINFO    \u001b[0m | \u001b[36mservices.vector_store.write\u001b[0m:\u001b[36mrun\u001b[0m:\u001b[36m93\u001b[0m - \u001b[1mWriting embeddings for cluster 6\u001b[0m\n",
      "\u001b[32mJuly-30-2025\u001b[0m | \u001b[30m17:17:42\u001b[0m | \u001b[1mINFO\u001b[0m | \u001b[36mWriting embeddings for cluster 6\u001b[0m | \u001b[35mservices.vector_store.write:run:93\u001b[0m | \u001b[33m{}\u001b[0m\n",
      "\u001b[32m2025-07-30 17:17:42.642\u001b[0m | \u001b[1mINFO    \u001b[0m | \u001b[36mservices.vector_store.write\u001b[0m:\u001b[36mwrite\u001b[0m:\u001b[36m41\u001b[0m - \u001b[1mCluster 6: 10132 profiles, 10132 profile indices\u001b[0m\n",
      "\u001b[32mJuly-30-2025\u001b[0m | \u001b[30m17:17:42\u001b[0m | \u001b[1mINFO\u001b[0m | \u001b[36mCluster 6: 10132 profiles, 10132 profile indices\u001b[0m | \u001b[35mservices.vector_store.write:write:41\u001b[0m | \u001b[33m{}\u001b[0m\n",
      "\u001b[32m2025-07-30 17:17:42.686\u001b[0m | \u001b[1mINFO    \u001b[0m | \u001b[36mservices.vector_store.write\u001b[0m:\u001b[36mwrite\u001b[0m:\u001b[36m65\u001b[0m - \u001b[1mSaved cluster 6 with 10132 embeddings\u001b[0m\n",
      "\u001b[32mJuly-30-2025\u001b[0m | \u001b[30m17:17:42\u001b[0m | \u001b[1mINFO\u001b[0m | \u001b[36mSaved cluster 6 with 10132 embeddings\u001b[0m | \u001b[35mservices.vector_store.write:write:65\u001b[0m | \u001b[33m{}\u001b[0m\n",
      "\u001b[32m2025-07-30 17:17:42.689\u001b[0m | \u001b[1mINFO    \u001b[0m | \u001b[36mservices.vector_store.write\u001b[0m:\u001b[36mrun\u001b[0m:\u001b[36m95\u001b[0m - \u001b[1mWritten embeddings for cluster 6\u001b[0m\n",
      "\u001b[32mJuly-30-2025\u001b[0m | \u001b[30m17:17:42\u001b[0m | \u001b[1mINFO\u001b[0m | \u001b[36mWritten embeddings for cluster 6\u001b[0m | \u001b[35mservices.vector_store.write:run:95\u001b[0m | \u001b[33m{}\u001b[0m\n",
      "\u001b[32m2025-07-30 17:17:42.690\u001b[0m | \u001b[1mINFO    \u001b[0m | \u001b[36mservices.vector_store.write\u001b[0m:\u001b[36mrun\u001b[0m:\u001b[36m93\u001b[0m - \u001b[1mWriting embeddings for cluster 7\u001b[0m\n",
      "\u001b[32mJuly-30-2025\u001b[0m | \u001b[30m17:17:42\u001b[0m | \u001b[1mINFO\u001b[0m | \u001b[36mWriting embeddings for cluster 7\u001b[0m | \u001b[35mservices.vector_store.write:run:93\u001b[0m | \u001b[33m{}\u001b[0m\n",
      "\u001b[32m2025-07-30 17:17:42.769\u001b[0m | \u001b[1mINFO    \u001b[0m | \u001b[36mservices.vector_store.write\u001b[0m:\u001b[36mwrite\u001b[0m:\u001b[36m41\u001b[0m - \u001b[1mCluster 7: 19460 profiles, 19460 profile indices\u001b[0m\n",
      "\u001b[32mJuly-30-2025\u001b[0m | \u001b[30m17:17:42\u001b[0m | \u001b[1mINFO\u001b[0m | \u001b[36mCluster 7: 19460 profiles, 19460 profile indices\u001b[0m | \u001b[35mservices.vector_store.write:write:41\u001b[0m | \u001b[33m{}\u001b[0m\n",
      "\u001b[32m2025-07-30 17:17:42.852\u001b[0m | \u001b[1mINFO    \u001b[0m | \u001b[36mservices.vector_store.write\u001b[0m:\u001b[36mwrite\u001b[0m:\u001b[36m65\u001b[0m - \u001b[1mSaved cluster 7 with 19460 embeddings\u001b[0m\n",
      "\u001b[32mJuly-30-2025\u001b[0m | \u001b[30m17:17:42\u001b[0m | \u001b[1mINFO\u001b[0m | \u001b[36mSaved cluster 7 with 19460 embeddings\u001b[0m | \u001b[35mservices.vector_store.write:write:65\u001b[0m | \u001b[33m{}\u001b[0m\n",
      "\u001b[32m2025-07-30 17:17:42.855\u001b[0m | \u001b[1mINFO    \u001b[0m | \u001b[36mservices.vector_store.write\u001b[0m:\u001b[36mrun\u001b[0m:\u001b[36m95\u001b[0m - \u001b[1mWritten embeddings for cluster 7\u001b[0m\n",
      "\u001b[32mJuly-30-2025\u001b[0m | \u001b[30m17:17:42\u001b[0m | \u001b[1mINFO\u001b[0m | \u001b[36mWritten embeddings for cluster 7\u001b[0m | \u001b[35mservices.vector_store.write:run:95\u001b[0m | \u001b[33m{}\u001b[0m\n",
      "\u001b[32m2025-07-30 17:17:42.856\u001b[0m | \u001b[1mINFO    \u001b[0m | \u001b[36mservices.vector_store.write\u001b[0m:\u001b[36mrun\u001b[0m:\u001b[36m93\u001b[0m - \u001b[1mWriting embeddings for cluster 8\u001b[0m\n",
      "\u001b[32mJuly-30-2025\u001b[0m | \u001b[30m17:17:42\u001b[0m | \u001b[1mINFO\u001b[0m | \u001b[36mWriting embeddings for cluster 8\u001b[0m | \u001b[35mservices.vector_store.write:run:93\u001b[0m | \u001b[33m{}\u001b[0m\n",
      "\u001b[32m2025-07-30 17:17:42.899\u001b[0m | \u001b[1mINFO    \u001b[0m | \u001b[36mservices.vector_store.write\u001b[0m:\u001b[36mwrite\u001b[0m:\u001b[36m41\u001b[0m - \u001b[1mCluster 8: 20693 profiles, 20693 profile indices\u001b[0m\n",
      "\u001b[32mJuly-30-2025\u001b[0m | \u001b[30m17:17:42\u001b[0m | \u001b[1mINFO\u001b[0m | \u001b[36mCluster 8: 20693 profiles, 20693 profile indices\u001b[0m | \u001b[35mservices.vector_store.write:write:41\u001b[0m | \u001b[33m{}\u001b[0m\n",
      "\u001b[32m2025-07-30 17:17:42.982\u001b[0m | \u001b[1mINFO    \u001b[0m | \u001b[36mservices.vector_store.write\u001b[0m:\u001b[36mwrite\u001b[0m:\u001b[36m65\u001b[0m - \u001b[1mSaved cluster 8 with 20693 embeddings\u001b[0m\n",
      "\u001b[32mJuly-30-2025\u001b[0m | \u001b[30m17:17:42\u001b[0m | \u001b[1mINFO\u001b[0m | \u001b[36mSaved cluster 8 with 20693 embeddings\u001b[0m | \u001b[35mservices.vector_store.write:write:65\u001b[0m | \u001b[33m{}\u001b[0m\n",
      "\u001b[32m2025-07-30 17:17:42.985\u001b[0m | \u001b[1mINFO    \u001b[0m | \u001b[36mservices.vector_store.write\u001b[0m:\u001b[36mrun\u001b[0m:\u001b[36m95\u001b[0m - \u001b[1mWritten embeddings for cluster 8\u001b[0m\n",
      "\u001b[32mJuly-30-2025\u001b[0m | \u001b[30m17:17:42\u001b[0m | \u001b[1mINFO\u001b[0m | \u001b[36mWritten embeddings for cluster 8\u001b[0m | \u001b[35mservices.vector_store.write:run:95\u001b[0m | \u001b[33m{}\u001b[0m\n",
      "\u001b[32m2025-07-30 17:17:42.985\u001b[0m | \u001b[1mINFO    \u001b[0m | \u001b[36mservices.vector_store.write\u001b[0m:\u001b[36mrun\u001b[0m:\u001b[36m93\u001b[0m - \u001b[1mWriting embeddings for cluster 9\u001b[0m\n",
      "\u001b[32mJuly-30-2025\u001b[0m | \u001b[30m17:17:42\u001b[0m | \u001b[1mINFO\u001b[0m | \u001b[36mWriting embeddings for cluster 9\u001b[0m | \u001b[35mservices.vector_store.write:run:93\u001b[0m | \u001b[33m{}\u001b[0m\n",
      "\u001b[32m2025-07-30 17:17:43.005\u001b[0m | \u001b[1mINFO    \u001b[0m | \u001b[36mservices.vector_store.write\u001b[0m:\u001b[36mwrite\u001b[0m:\u001b[36m41\u001b[0m - \u001b[1mCluster 9: 11735 profiles, 11735 profile indices\u001b[0m\n",
      "\u001b[32mJuly-30-2025\u001b[0m | \u001b[30m17:17:43\u001b[0m | \u001b[1mINFO\u001b[0m | \u001b[36mCluster 9: 11735 profiles, 11735 profile indices\u001b[0m | \u001b[35mservices.vector_store.write:write:41\u001b[0m | \u001b[33m{}\u001b[0m\n",
      "\u001b[32m2025-07-30 17:17:43.041\u001b[0m | \u001b[1mINFO    \u001b[0m | \u001b[36mservices.vector_store.write\u001b[0m:\u001b[36mwrite\u001b[0m:\u001b[36m65\u001b[0m - \u001b[1mSaved cluster 9 with 11735 embeddings\u001b[0m\n",
      "\u001b[32mJuly-30-2025\u001b[0m | \u001b[30m17:17:43\u001b[0m | \u001b[1mINFO\u001b[0m | \u001b[36mSaved cluster 9 with 11735 embeddings\u001b[0m | \u001b[35mservices.vector_store.write:write:65\u001b[0m | \u001b[33m{}\u001b[0m\n",
      "\u001b[32m2025-07-30 17:17:43.042\u001b[0m | \u001b[1mINFO    \u001b[0m | \u001b[36mservices.vector_store.write\u001b[0m:\u001b[36mrun\u001b[0m:\u001b[36m95\u001b[0m - \u001b[1mWritten embeddings for cluster 9\u001b[0m\n",
      "\u001b[32mJuly-30-2025\u001b[0m | \u001b[30m17:17:43\u001b[0m | \u001b[1mINFO\u001b[0m | \u001b[36mWritten embeddings for cluster 9\u001b[0m | \u001b[35mservices.vector_store.write:run:95\u001b[0m | \u001b[33m{}\u001b[0m\n",
      "\u001b[32m2025-07-30 17:17:43.043\u001b[0m | \u001b[1mINFO    \u001b[0m | \u001b[36mservices.vector_store.write\u001b[0m:\u001b[36mrun\u001b[0m:\u001b[36m93\u001b[0m - \u001b[1mWriting embeddings for cluster 10\u001b[0m\n",
      "\u001b[32mJuly-30-2025\u001b[0m | \u001b[30m17:17:43\u001b[0m | \u001b[1mINFO\u001b[0m | \u001b[36mWriting embeddings for cluster 10\u001b[0m | \u001b[35mservices.vector_store.write:run:93\u001b[0m | \u001b[33m{}\u001b[0m\n",
      "\u001b[32m2025-07-30 17:17:43.068\u001b[0m | \u001b[1mINFO    \u001b[0m | \u001b[36mservices.vector_store.write\u001b[0m:\u001b[36mwrite\u001b[0m:\u001b[36m41\u001b[0m - \u001b[1mCluster 10: 14761 profiles, 14761 profile indices\u001b[0m\n",
      "\u001b[32mJuly-30-2025\u001b[0m | \u001b[30m17:17:43\u001b[0m | \u001b[1mINFO\u001b[0m | \u001b[36mCluster 10: 14761 profiles, 14761 profile indices\u001b[0m | \u001b[35mservices.vector_store.write:write:41\u001b[0m | \u001b[33m{}\u001b[0m\n",
      "\u001b[32m2025-07-30 17:17:43.114\u001b[0m | \u001b[1mINFO    \u001b[0m | \u001b[36mservices.vector_store.write\u001b[0m:\u001b[36mwrite\u001b[0m:\u001b[36m65\u001b[0m - \u001b[1mSaved cluster 10 with 14761 embeddings\u001b[0m\n",
      "\u001b[32mJuly-30-2025\u001b[0m | \u001b[30m17:17:43\u001b[0m | \u001b[1mINFO\u001b[0m | \u001b[36mSaved cluster 10 with 14761 embeddings\u001b[0m | \u001b[35mservices.vector_store.write:write:65\u001b[0m | \u001b[33m{}\u001b[0m\n",
      "\u001b[32m2025-07-30 17:17:43.116\u001b[0m | \u001b[1mINFO    \u001b[0m | \u001b[36mservices.vector_store.write\u001b[0m:\u001b[36mrun\u001b[0m:\u001b[36m95\u001b[0m - \u001b[1mWritten embeddings for cluster 10\u001b[0m\n",
      "\u001b[32mJuly-30-2025\u001b[0m | \u001b[30m17:17:43\u001b[0m | \u001b[1mINFO\u001b[0m | \u001b[36mWritten embeddings for cluster 10\u001b[0m | \u001b[35mservices.vector_store.write:run:95\u001b[0m | \u001b[33m{}\u001b[0m\n",
      "\u001b[32m2025-07-30 17:17:43.116\u001b[0m | \u001b[1mINFO    \u001b[0m | \u001b[36mservices.vector_store.write\u001b[0m:\u001b[36mrun\u001b[0m:\u001b[36m93\u001b[0m - \u001b[1mWriting embeddings for cluster 11\u001b[0m\n",
      "\u001b[32mJuly-30-2025\u001b[0m | \u001b[30m17:17:43\u001b[0m | \u001b[1mINFO\u001b[0m | \u001b[36mWriting embeddings for cluster 11\u001b[0m | \u001b[35mservices.vector_store.write:run:93\u001b[0m | \u001b[33m{}\u001b[0m\n",
      "\u001b[32m2025-07-30 17:17:43.134\u001b[0m | \u001b[1mINFO    \u001b[0m | \u001b[36mservices.vector_store.write\u001b[0m:\u001b[36mwrite\u001b[0m:\u001b[36m41\u001b[0m - \u001b[1mCluster 11: 10158 profiles, 10158 profile indices\u001b[0m\n",
      "\u001b[32mJuly-30-2025\u001b[0m | \u001b[30m17:17:43\u001b[0m | \u001b[1mINFO\u001b[0m | \u001b[36mCluster 11: 10158 profiles, 10158 profile indices\u001b[0m | \u001b[35mservices.vector_store.write:write:41\u001b[0m | \u001b[33m{}\u001b[0m\n",
      "\u001b[32m2025-07-30 17:17:43.174\u001b[0m | \u001b[1mINFO    \u001b[0m | \u001b[36mservices.vector_store.write\u001b[0m:\u001b[36mwrite\u001b[0m:\u001b[36m65\u001b[0m - \u001b[1mSaved cluster 11 with 10158 embeddings\u001b[0m\n",
      "\u001b[32mJuly-30-2025\u001b[0m | \u001b[30m17:17:43\u001b[0m | \u001b[1mINFO\u001b[0m | \u001b[36mSaved cluster 11 with 10158 embeddings\u001b[0m | \u001b[35mservices.vector_store.write:write:65\u001b[0m | \u001b[33m{}\u001b[0m\n",
      "\u001b[32m2025-07-30 17:17:43.176\u001b[0m | \u001b[1mINFO    \u001b[0m | \u001b[36mservices.vector_store.write\u001b[0m:\u001b[36mrun\u001b[0m:\u001b[36m95\u001b[0m - \u001b[1mWritten embeddings for cluster 11\u001b[0m\n",
      "\u001b[32mJuly-30-2025\u001b[0m | \u001b[30m17:17:43\u001b[0m | \u001b[1mINFO\u001b[0m | \u001b[36mWritten embeddings for cluster 11\u001b[0m | \u001b[35mservices.vector_store.write:run:95\u001b[0m | \u001b[33m{}\u001b[0m\n",
      "\u001b[32m2025-07-30 17:17:43.176\u001b[0m | \u001b[1mINFO    \u001b[0m | \u001b[36mservices.vector_store.write\u001b[0m:\u001b[36mrun\u001b[0m:\u001b[36m93\u001b[0m - \u001b[1mWriting embeddings for cluster 12\u001b[0m\n",
      "\u001b[32mJuly-30-2025\u001b[0m | \u001b[30m17:17:43\u001b[0m | \u001b[1mINFO\u001b[0m | \u001b[36mWriting embeddings for cluster 12\u001b[0m | \u001b[35mservices.vector_store.write:run:93\u001b[0m | \u001b[33m{}\u001b[0m\n",
      "\u001b[32m2025-07-30 17:17:43.189\u001b[0m | \u001b[1mINFO    \u001b[0m | \u001b[36mservices.vector_store.write\u001b[0m:\u001b[36mwrite\u001b[0m:\u001b[36m41\u001b[0m - \u001b[1mCluster 12: 10185 profiles, 10185 profile indices\u001b[0m\n",
      "\u001b[32mJuly-30-2025\u001b[0m | \u001b[30m17:17:43\u001b[0m | \u001b[1mINFO\u001b[0m | \u001b[36mCluster 12: 10185 profiles, 10185 profile indices\u001b[0m | \u001b[35mservices.vector_store.write:write:41\u001b[0m | \u001b[33m{}\u001b[0m\n",
      "\u001b[32m2025-07-30 17:17:43.231\u001b[0m | \u001b[1mINFO    \u001b[0m | \u001b[36mservices.vector_store.write\u001b[0m:\u001b[36mwrite\u001b[0m:\u001b[36m65\u001b[0m - \u001b[1mSaved cluster 12 with 10185 embeddings\u001b[0m\n",
      "\u001b[32mJuly-30-2025\u001b[0m | \u001b[30m17:17:43\u001b[0m | \u001b[1mINFO\u001b[0m | \u001b[36mSaved cluster 12 with 10185 embeddings\u001b[0m | \u001b[35mservices.vector_store.write:write:65\u001b[0m | \u001b[33m{}\u001b[0m\n",
      "\u001b[32m2025-07-30 17:17:43.233\u001b[0m | \u001b[1mINFO    \u001b[0m | \u001b[36mservices.vector_store.write\u001b[0m:\u001b[36mrun\u001b[0m:\u001b[36m95\u001b[0m - \u001b[1mWritten embeddings for cluster 12\u001b[0m\n",
      "\u001b[32mJuly-30-2025\u001b[0m | \u001b[30m17:17:43\u001b[0m | \u001b[1mINFO\u001b[0m | \u001b[36mWritten embeddings for cluster 12\u001b[0m | \u001b[35mservices.vector_store.write:run:95\u001b[0m | \u001b[33m{}\u001b[0m\n",
      "\u001b[32m2025-07-30 17:17:43.233\u001b[0m | \u001b[1mINFO    \u001b[0m | \u001b[36mservices.vector_store.write\u001b[0m:\u001b[36mrun\u001b[0m:\u001b[36m93\u001b[0m - \u001b[1mWriting embeddings for cluster 13\u001b[0m\n",
      "\u001b[32mJuly-30-2025\u001b[0m | \u001b[30m17:17:43\u001b[0m | \u001b[1mINFO\u001b[0m | \u001b[36mWriting embeddings for cluster 13\u001b[0m | \u001b[35mservices.vector_store.write:run:93\u001b[0m | \u001b[33m{}\u001b[0m\n",
      "\u001b[32m2025-07-30 17:17:43.245\u001b[0m | \u001b[1mINFO    \u001b[0m | \u001b[36mservices.vector_store.write\u001b[0m:\u001b[36mwrite\u001b[0m:\u001b[36m41\u001b[0m - \u001b[1mCluster 13: 10434 profiles, 10434 profile indices\u001b[0m\n",
      "\u001b[32mJuly-30-2025\u001b[0m | \u001b[30m17:17:43\u001b[0m | \u001b[1mINFO\u001b[0m | \u001b[36mCluster 13: 10434 profiles, 10434 profile indices\u001b[0m | \u001b[35mservices.vector_store.write:write:41\u001b[0m | \u001b[33m{}\u001b[0m\n",
      "\u001b[32m2025-07-30 17:17:43.286\u001b[0m | \u001b[1mINFO    \u001b[0m | \u001b[36mservices.vector_store.write\u001b[0m:\u001b[36mwrite\u001b[0m:\u001b[36m65\u001b[0m - \u001b[1mSaved cluster 13 with 10434 embeddings\u001b[0m\n",
      "\u001b[32mJuly-30-2025\u001b[0m | \u001b[30m17:17:43\u001b[0m | \u001b[1mINFO\u001b[0m | \u001b[36mSaved cluster 13 with 10434 embeddings\u001b[0m | \u001b[35mservices.vector_store.write:write:65\u001b[0m | \u001b[33m{}\u001b[0m\n",
      "\u001b[32m2025-07-30 17:17:43.287\u001b[0m | \u001b[1mINFO    \u001b[0m | \u001b[36mservices.vector_store.write\u001b[0m:\u001b[36mrun\u001b[0m:\u001b[36m95\u001b[0m - \u001b[1mWritten embeddings for cluster 13\u001b[0m\n",
      "\u001b[32mJuly-30-2025\u001b[0m | \u001b[30m17:17:43\u001b[0m | \u001b[1mINFO\u001b[0m | \u001b[36mWritten embeddings for cluster 13\u001b[0m | \u001b[35mservices.vector_store.write:run:95\u001b[0m | \u001b[33m{}\u001b[0m\n",
      "\u001b[32m2025-07-30 17:17:43.288\u001b[0m | \u001b[1mINFO    \u001b[0m | \u001b[36mservices.vector_store.write\u001b[0m:\u001b[36mrun\u001b[0m:\u001b[36m97\u001b[0m - \u001b[1mVector store write service completed\u001b[0m\n",
      "\u001b[32mJuly-30-2025\u001b[0m | \u001b[30m17:17:43\u001b[0m | \u001b[1mINFO\u001b[0m | \u001b[36mVector store write service completed\u001b[0m | \u001b[35mservices.vector_store.write:run:97\u001b[0m | \u001b[33m{}\u001b[0m\n"
     ]
    }
   ],
   "source": [
    "vector_store_write_service = VectorStoreWriteService()\n",
    "\n",
    "faiss_indices = vector_store_write_service.run(\n",
    "    embeddings=np.array(embeddings),\n",
    "    cluster_labels=kmean_cluster_labels,\n",
    ")"
   ]
  },
  {
   "cell_type": "markdown",
   "id": "e268548a",
   "metadata": {},
   "source": [
    "# Save System"
   ]
  },
  {
   "cell_type": "code",
   "execution_count": 272,
   "id": "b97c1ff7",
   "metadata": {},
   "outputs": [],
   "source": [
    "def save_system(\n",
    "    profiles: List[ProfileData],\n",
    "    clusters: np.ndarray,\n",
    "    cluster_centers: np.ndarray,\n",
    "    embeddings: np.ndarray,\n",
    "    faiss_indices: Dict[int, Dict[str, Any]],\n",
    "    cluster_labels: np.ndarray,\n",
    "    filepath: str,\n",
    "):\n",
    "    \"\"\"\n",
    "    Save the clustering system to disk\n",
    "    \"\"\"\n",
    "    system_data = {\n",
    "        'profiles': profiles,\n",
    "        'clusters': clusters,\n",
    "        'cluster_centers': cluster_centers,\n",
    "        'embeddings': embeddings,\n",
    "        'faiss_indices': faiss_indices,\n",
    "        'cluster_labels': cluster_labels,\n",
    "    }\n",
    "    \n",
    "    with open(filepath, 'wb') as f:\n",
    "        pickle.dump(system_data, f)\n",
    "    \n",
    "    # Save FAISS indices separately\n",
    "    for cluster_id, cluster_info in faiss_indices.items():\n",
    "        faiss.write_index(cluster_info['index'], f\"{filepath}_cluster_{cluster_id}.faiss\")\n",
    "    \n",
    "    print(f\"System saved to {filepath}\")"
   ]
  },
  {
   "cell_type": "code",
   "execution_count": 274,
   "id": "91783877",
   "metadata": {},
   "outputs": [
    {
     "name": "stdout",
     "output_type": "stream",
     "text": [
      "System saved to data/clustering_system_v2.pkl\n"
     ]
    }
   ],
   "source": [
    "save_system(\n",
    "    profiles=profiles,\n",
    "    clusters=kmean_cluster_labels,\n",
    "    cluster_centers=kmeans_clustering_service.cluster_centers,\n",
    "    embeddings=np.array(embeddings),\n",
    "    faiss_indices=faiss_indices,\n",
    "    filepath=\"data/clustering_system_v2.pkl\",\n",
    "    cluster_labels=kmean_cluster_labels\n",
    ")"
   ]
  },
  {
   "cell_type": "code",
   "execution_count": null,
   "id": "cb7db1b4",
   "metadata": {},
   "outputs": [],
   "source": []
  }
 ],
 "metadata": {
  "kernelspec": {
   "display_name": "venv",
   "language": "python",
   "name": "python3"
  },
  "language_info": {
   "codemirror_mode": {
    "name": "ipython",
    "version": 3
   },
   "file_extension": ".py",
   "mimetype": "text/x-python",
   "name": "python",
   "nbconvert_exporter": "python",
   "pygments_lexer": "ipython3",
   "version": "3.13.5"
  }
 },
 "nbformat": 4,
 "nbformat_minor": 5
}
